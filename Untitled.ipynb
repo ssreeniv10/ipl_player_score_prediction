{
 "cells": [
  {
   "cell_type": "code",
   "execution_count": 122,
   "id": "a4519e7c-140f-4abb-a1b5-52ce3f9fa5b4",
   "metadata": {},
   "outputs": [
    {
     "name": "stdout",
     "output_type": "stream",
     "text": [
      "Requirement already satisfied: xgboost in /opt/anaconda3/lib/python3.12/site-packages (3.0.0)\n",
      "Requirement already satisfied: numpy in /opt/anaconda3/lib/python3.12/site-packages (from xgboost) (1.26.4)\n",
      "Requirement already satisfied: scipy in /opt/anaconda3/lib/python3.12/site-packages (from xgboost) (1.13.1)\n"
     ]
    }
   ],
   "source": [
    "!pip install xgboost"
   ]
  },
  {
   "cell_type": "code",
   "execution_count": 123,
   "id": "404f671b-8aec-4e86-9f9a-d14475277745",
   "metadata": {},
   "outputs": [],
   "source": [
    "import os\n",
    "import json\n",
    "import pandas as pd  \n",
    "from glob import glob\n",
    "import seaborn as sns  \n",
    "import matplotlib.pyplot as plt  \n",
    "from IPython.display import FileLink\n",
    "from sklearn.model_selection import train_test_split\n",
    "from sklearn.linear_model import LinearRegression\n",
    "from sklearn.ensemble import RandomForestRegressor\n",
    "from xgboost import XGBRegressor\n",
    "from sklearn.metrics import r2_score, mean_squared_error, mean_absolute_error\n",
    "import numpy as np\n",
    "from sklearn.preprocessing import LabelEncoder\n"
   ]
  },
  {
   "cell_type": "code",
   "execution_count": 124,
   "id": "2cdb3c9d-066b-40fb-8f95-ce40fa4f2f23",
   "metadata": {},
   "outputs": [],
   "source": [
    "# Path to folder containing JSON files"
   ]
  },
  {
   "cell_type": "code",
   "execution_count": 125,
   "id": "e4f00ae5-4dc6-482b-90e9-25c9f70e87df",
   "metadata": {},
   "outputs": [],
   "source": [
    "data_path = \"/Users/s.v.ssaisreenivas/Datasets/ipl_json\""
   ]
  },
  {
   "cell_type": "code",
   "execution_count": 126,
   "id": "260bd53d-b45d-4055-b8cf-c91bca48c08d",
   "metadata": {},
   "outputs": [],
   "source": [
    "# Get all JSON file paths"
   ]
  },
  {
   "cell_type": "code",
   "execution_count": 127,
   "id": "a53adec2-3c4e-4dec-a049-5356d0fd6abf",
   "metadata": {},
   "outputs": [],
   "source": [
    "json_files = glob(os.path.join(data_path, \"*.json\"))\n"
   ]
  },
  {
   "cell_type": "code",
   "execution_count": 128,
   "id": "fc26c225-5e8b-4416-8c50-ddef1c9a07e8",
   "metadata": {},
   "outputs": [],
   "source": [
    "#List to store match data and player statistics\n",
    "match_data = []\n",
    "player_stats = []"
   ]
  },
  {
   "cell_type": "code",
   "execution_count": 129,
   "id": "1669a7d4-f4c9-4dff-a681-401689747ede",
   "metadata": {},
   "outputs": [],
   "source": [
    "# Load each JSON file and extract relevant information\n",
    "match_id = 1  # Start match ID from 1\n",
    "\n",
    "for file in json_files:\n",
    "    with open(file, \"r\") as f:\n",
    "        match = json.load(f)\n",
    "\n",
    "        # Extract match metadata\n",
    "        venue = match.get(\"info\", {}).get(\"venue\", None)\n",
    "        teams = match.get(\"info\", {}).get(\"teams\", [])\n",
    "        toss_winner = match.get(\"info\", {}).get(\"toss\", {}).get(\"winner\", None)\n",
    "        toss_decision = match.get(\"info\", {}).get(\"toss\", {}).get(\"decision\", None)\n",
    "        match_result = match.get(\"info\", {}).get(\"outcome\", {}).get(\"winner\", None)\n",
    "\n",
    "        # Extract innings-level details\n",
    "        innings = match.get(\"innings\", [])\n",
    "\n",
    "        for inning in innings:\n",
    "            team = inning.get(\"team\", None)\n",
    "            deliveries = inning.get(\"overs\", [])\n",
    "\n",
    "            # Player-wise tracking\n",
    "            player_runs = {}\n",
    "            player_balls = {}\n",
    "            player_wickets = {}\n",
    "            player_overs = {}\n",
    "\n",
    "            for over in deliveries:\n",
    "                for ball in over.get(\"deliveries\", []):\n",
    "                    batter = ball.get(\"batter\")\n",
    "                    bowler = ball.get(\"bowler\")\n",
    "                    runs = ball.get(\"runs\", {}).get(\"batter\", 0)\n",
    "\n",
    "                    # Track batter stats\n",
    "                    if batter:\n",
    "                        if batter not in player_runs:\n",
    "                            player_runs[batter] = 0\n",
    "                            player_balls[batter] = 0\n",
    "                        player_runs[batter] += runs\n",
    "                        player_balls[batter] += 1\n",
    "\n",
    "                    # Track bowler stats\n",
    "                    # if bowler:\n",
    "                    #     if bowler not in player_wickets:\n",
    "                    #         player_wickets[bowler] = 0\n",
    "                    #         player_overs[bowler] = 0\n",
    "                    #     if \"wickets\" in ball:\n",
    "                    #         player_wickets[bowler] += 1\n",
    "                    #     player_overs[bowler] += 1 / 6  # Convert balls to overs\n",
    "\n",
    "           # Append player stats for this match\n",
    "            for player in player_runs:\n",
    "                player_stats.append({\n",
    "                    \"match_id\": match_id,\n",
    "                    \"player\": player,\n",
    "                    \"team\": team,\n",
    "                    \"opponent\": teams[1] if teams[0] == team else teams[0],\n",
    "                    \"venue\": venue,\n",
    "                    \"toss_winner\": toss_winner,\n",
    "                    \"toss_decision\": toss_decision,\n",
    "                    \"match_winner\": match_result,\n",
    "                    \"runs_scored\": player_runs.get(player, 0),\n",
    "                    \"balls_faced\": player_balls.get(player, 0),\n",
    "                    # \"wickets_taken\": player_wickets.get(player, 0),\n",
    "                    # \"overs_bowled\": player_overs.get(player, 0)\n",
    "                })\n",
    "\n",
    "    match_id += 1  # Increment match ID for the next match"
   ]
  },
  {
   "cell_type": "code",
   "execution_count": 130,
   "id": "0a39768d-b89c-4987-ad2b-4bd3d3ca046b",
   "metadata": {},
   "outputs": [],
   "source": [
    "# Convert to DataFrame and save\n",
    "df_players = pd.DataFrame(player_stats)"
   ]
  },
  {
   "cell_type": "code",
   "execution_count": 131,
   "id": "7615397e-ff4f-41a8-b051-4721a3d474bb",
   "metadata": {},
   "outputs": [
    {
     "name": "stdout",
     "output_type": "stream",
     "text": [
      "Player stats extracted and saved!\n"
     ]
    }
   ],
   "source": [
    "# Save to CSV for easy access\n",
    "df_players.to_csv(\"ipl_player_stats.csv\", index=False)\n",
    "print(\"Player stats extracted and saved!\")"
   ]
  },
  {
   "cell_type": "code",
   "execution_count": 132,
   "id": "d777acf9-4c66-487f-9065-3f5da1c923dc",
   "metadata": {},
   "outputs": [
    {
     "name": "stdout",
     "output_type": "stream",
     "text": [
      "   match_id               player                 team      opponent  \\\n",
      "0         1              TM Head  Sunrisers Hyderabad  Punjab Kings   \n",
      "1         1      Abhishek Sharma  Sunrisers Hyderabad  Punjab Kings   \n",
      "2         1           AK Markram  Sunrisers Hyderabad  Punjab Kings   \n",
      "3         1  Nithish Kumar Reddy  Sunrisers Hyderabad  Punjab Kings   \n",
      "4         1          RA Tripathi  Sunrisers Hyderabad  Punjab Kings   \n",
      "\n",
      "                                               venue   toss_winner  \\\n",
      "0  Maharaja Yadavindra Singh International Cricke...  Punjab Kings   \n",
      "1  Maharaja Yadavindra Singh International Cricke...  Punjab Kings   \n",
      "2  Maharaja Yadavindra Singh International Cricke...  Punjab Kings   \n",
      "3  Maharaja Yadavindra Singh International Cricke...  Punjab Kings   \n",
      "4  Maharaja Yadavindra Singh International Cricke...  Punjab Kings   \n",
      "\n",
      "  toss_decision         match_winner  runs_scored  balls_faced  \n",
      "0         field  Sunrisers Hyderabad           21           15  \n",
      "1         field  Sunrisers Hyderabad           16           12  \n",
      "2         field  Sunrisers Hyderabad            0            2  \n",
      "3         field  Sunrisers Hyderabad           64           38  \n",
      "4         field  Sunrisers Hyderabad           11           14  \n"
     ]
    }
   ],
   "source": [
    "print(df_players.head())"
   ]
  },
  {
   "cell_type": "code",
   "execution_count": 133,
   "id": "2f90bfca-cd48-4505-b934-f4ae33b5ce47",
   "metadata": {},
   "outputs": [
    {
     "name": "stdout",
     "output_type": "stream",
     "text": [
      "match_id           0\n",
      "player             0\n",
      "team               0\n",
      "opponent           0\n",
      "venue              0\n",
      "toss_winner        0\n",
      "toss_decision      0\n",
      "match_winner     331\n",
      "runs_scored        0\n",
      "balls_faced        0\n",
      "dtype: int64\n"
     ]
    }
   ],
   "source": [
    "print(df_players.isnull().sum())"
   ]
  },
  {
   "cell_type": "code",
   "execution_count": 134,
   "id": "8ef8eff0-1e11-45e1-a1ef-39210b85d179",
   "metadata": {},
   "outputs": [],
   "source": [
    "df_players.dropna(subset=[\"match_winner\"], inplace=True)"
   ]
  },
  {
   "cell_type": "code",
   "execution_count": 135,
   "id": "e28ccc20-ed32-40ca-b560-93063f3f1261",
   "metadata": {},
   "outputs": [
    {
     "name": "stdout",
     "output_type": "stream",
     "text": [
      "match_id         0\n",
      "player           0\n",
      "team             0\n",
      "opponent         0\n",
      "venue            0\n",
      "toss_winner      0\n",
      "toss_decision    0\n",
      "match_winner     0\n",
      "runs_scored      0\n",
      "balls_faced      0\n",
      "dtype: int64\n"
     ]
    }
   ],
   "source": [
    "print(df_players.isnull().sum())"
   ]
  },
  {
   "cell_type": "code",
   "execution_count": 136,
   "id": "0413ac4b-d65d-4f6b-834d-397c42a793ad",
   "metadata": {},
   "outputs": [],
   "source": [
    "# Feature Engineering (if they won toss:1; if they won match:1)"
   ]
  },
  {
   "cell_type": "code",
   "execution_count": 137,
   "id": "b311464a-a85a-4949-9d0f-569bf7a13fed",
   "metadata": {},
   "outputs": [],
   "source": [
    "df_players[\"won_toss\"] = (df_players[\"toss_winner\"] == df_players[\"team\"]).astype(int)\n",
    "df_players[\"won_match\"] = (df_players[\"match_winner\"] == df_players[\"team\"]).astype(int)\n"
   ]
  },
  {
   "cell_type": "code",
   "execution_count": 138,
   "id": "5955d141-4782-4d40-9521-3c57d58cccb1",
   "metadata": {},
   "outputs": [],
   "source": [
    "# Compute cumulative stats"
   ]
  },
  {
   "cell_type": "code",
   "execution_count": 139,
   "id": "53bd469d-b679-4f05-a2c8-7a794d78c48a",
   "metadata": {},
   "outputs": [],
   "source": [
    "df_players[\"total_runs\"] = df_players.groupby(\"player\")[\"runs_scored\"].cumsum()\n",
    "df_players[\"total_balls\"] = df_players.groupby(\"player\")[\"balls_faced\"].cumsum()\n",
    "df_players[\"total_innings\"] = df_players.groupby(\"player\")[\"match_id\"].cumcount() + 1"
   ]
  },
  {
   "cell_type": "code",
   "execution_count": 140,
   "id": "fb523c66-a7a7-4b59-a5be-38357ed8c4ba",
   "metadata": {},
   "outputs": [],
   "source": [
    "# Batting Average & Strike Rate\n",
    "df_players[\"batting_avg\"] = df_players[\"total_runs\"] / df_players[\"total_innings\"]\n",
    "df_players[\"strike_rate\"] = (df_players[\"total_runs\"] / df_players[\"total_balls\"]) * 100"
   ]
  },
  {
   "cell_type": "code",
   "execution_count": 141,
   "id": "7376a7a0-114d-4234-aa82-b42bf2c1c7d1",
   "metadata": {},
   "outputs": [],
   "source": [
    "# Rolling average of last 5 innings\n",
    "df_players[\"rolling_avg_5\"] = df_players.groupby(\"player\")[\"runs_scored\"].rolling(window=5, min_periods=1).mean().reset_index(0, drop=True)"
   ]
  },
  {
   "cell_type": "code",
   "execution_count": 142,
   "id": "50fa5117-ca21-40bd-8e37-df9e3d3c055e",
   "metadata": {},
   "outputs": [],
   "source": [
    "# Venue & Opponent Averages\n",
    "df_players[\"avg_runs_venue\"] = df_players.groupby([\"player\", \"venue\"])[\"runs_scored\"].transform(\"mean\")\n",
    "df_players[\"avg_runs_opponent\"] = df_players.groupby([\"player\", \"opponent\"])[\"runs_scored\"].transform(\"mean\")\n"
   ]
  },
  {
   "cell_type": "code",
   "execution_count": 143,
   "id": "f1ec2957-bd7d-418c-894f-22c2f0d09ef2",
   "metadata": {},
   "outputs": [
    {
     "name": "stdout",
     "output_type": "stream",
     "text": [
      "Feature engineering complete! Data saved.\n",
      "   match_id               player                 team      opponent  \\\n",
      "0         1              TM Head  Sunrisers Hyderabad  Punjab Kings   \n",
      "1         1      Abhishek Sharma  Sunrisers Hyderabad  Punjab Kings   \n",
      "2         1           AK Markram  Sunrisers Hyderabad  Punjab Kings   \n",
      "3         1  Nithish Kumar Reddy  Sunrisers Hyderabad  Punjab Kings   \n",
      "4         1          RA Tripathi  Sunrisers Hyderabad  Punjab Kings   \n",
      "\n",
      "                                               venue   toss_winner  \\\n",
      "0  Maharaja Yadavindra Singh International Cricke...  Punjab Kings   \n",
      "1  Maharaja Yadavindra Singh International Cricke...  Punjab Kings   \n",
      "2  Maharaja Yadavindra Singh International Cricke...  Punjab Kings   \n",
      "3  Maharaja Yadavindra Singh International Cricke...  Punjab Kings   \n",
      "4  Maharaja Yadavindra Singh International Cricke...  Punjab Kings   \n",
      "\n",
      "  toss_decision         match_winner  runs_scored  balls_faced  won_toss  \\\n",
      "0         field  Sunrisers Hyderabad           21           15         0   \n",
      "1         field  Sunrisers Hyderabad           16           12         0   \n",
      "2         field  Sunrisers Hyderabad            0            2         0   \n",
      "3         field  Sunrisers Hyderabad           64           38         0   \n",
      "4         field  Sunrisers Hyderabad           11           14         0   \n",
      "\n",
      "   won_match  total_runs  total_balls  total_innings  batting_avg  \\\n",
      "0          1          21           15              1         21.0   \n",
      "1          1          16           12              1         16.0   \n",
      "2          1           0            2              1          0.0   \n",
      "3          1          64           38              1         64.0   \n",
      "4          1          11           14              1         11.0   \n",
      "\n",
      "   strike_rate  rolling_avg_5  avg_runs_venue  avg_runs_opponent  \n",
      "0   140.000000           21.0            21.0          10.500000  \n",
      "1   133.333333           16.0            16.0          39.000000  \n",
      "2     0.000000            0.0             0.0          24.750000  \n",
      "3   168.421053           64.0            64.0          50.500000  \n",
      "4    78.571429           11.0            11.0          35.285714  \n"
     ]
    }
   ],
   "source": [
    "# Save the final dataset\n",
    "df_players.to_csv(\"ipl_batsman_features.csv\", index=False)\n",
    "print(\"Feature engineering complete! Data saved.\")\n",
    "print(df_players.head())"
   ]
  },
  {
   "cell_type": "code",
   "execution_count": 144,
   "id": "105ea730-590a-443d-93d1-fba298f76d72",
   "metadata": {},
   "outputs": [],
   "source": [
    "# division by zero is handled in batting_avg and strike_rate by replacing NaNs with 0"
   ]
  },
  {
   "cell_type": "code",
   "execution_count": 145,
   "id": "42245771-660b-4e06-b8a7-1fd0eba4094c",
   "metadata": {},
   "outputs": [],
   "source": [
    "df_players.loc[:, \"batting_avg\"] = df_players[\"batting_avg\"].fillna(0)\n",
    "df_players.loc[:, \"strike_rate\"] = df_players[\"strike_rate\"].fillna(0)"
   ]
  },
  {
   "cell_type": "code",
   "execution_count": 146,
   "id": "46f7e480-b486-4858-9274-db86a2eae0be",
   "metadata": {},
   "outputs": [],
   "source": [
    "# Home vs Away Performance"
   ]
  },
  {
   "cell_type": "code",
   "execution_count": 147,
   "id": "5092ab58-08ff-40fd-8c0b-8559f6f6843e",
   "metadata": {},
   "outputs": [],
   "source": [
    "# Dictionary mapping each team to its home venue(s)\n",
    "home_venues = {\n",
    "    \"sunrisers hyderabad\": [\n",
    "        \"rajiv gandhi international stadium, uppal\",\n",
    "        \"dr. y.s. rajasekhara reddy aca-vdca cricket stadium, visakhapatnam\"\n",
    "    ],\n",
    "    \"chennai super kings\": [\n",
    "        \"ma chidambaram stadium, chepauk\",\n",
    "        \"maharashtra cricket association stadium, pune\"\n",
    "    ],\n",
    "    \"mumbai indians\": [\n",
    "        \"wankhede stadium\",\n",
    "        \"wankhede stadium, mumbai\",\n",
    "        \"dr dy patil sports academy, mumbai\",\n",
    "        \"brabourne stadium, mumbai\"\n",
    "    ],\n",
    "    \"royal challengers bangalore\": [\n",
    "        \"m chinnaswamy stadium\",\n",
    "        \"m chinnaswamy stadium, bengaluru\"\n",
    "    ],\n",
    "    \"kolkata knight riders\": [\n",
    "        \"eden gardens\",\n",
    "        \"eden gardens, kolkata\"\n",
    "    ],\n",
    "    \"punjab kings\": [\n",
    "        \"punjab cricket association is bindra stadium, mohali, chandigarh\",\n",
    "        \"punjab cricket association stadium, mohali\",\n",
    "        \"maharaja yadavindra singh international cricket stadium, mullanpur\"\n",
    "    ],\n",
    "    \"delhi capitals\": [\n",
    "        \"arun jaitley stadium\",\n",
    "        \"arun jaitley stadium, delhi\",\n",
    "        \"feroz shah kotla\"\n",
    "    ],\n",
    "    \"rajasthan royals\": [\n",
    "        \"sawai mansingh stadium, jaipur\",\n",
    "        \"sawai mansingh stadium\",\n",
    "        \"barsapara cricket stadium, guwahati\"\n",
    "    ],\n",
    "    \"gujarat titans\": [\n",
    "        \"narendra modi stadium, ahmedabad\",\n",
    "        \"sardar patel stadium, motera\"\n",
    "    ],\n",
    "    \"lucknow super giants\": [\n",
    "        \"bharat ratna shri atal bihari vajpayee ekana cricket stadium, lucknow\"\n",
    "    ],\n",
    "    \"delhi daredevils\": [\n",
    "        \"arun jaitley stadium\",\n",
    "        \"feroz shah kotla\"\n",
    "    ],\n",
    "    \"kings xi punjab\": [\n",
    "        \"punjab cricket association is bindra stadium, mohali, chandigarh\",\n",
    "        \"punjab cricket association stadium, mohali\"\n",
    "    ],\n",
    "    \"kochi tuskers kerala\": [\n",
    "        \"jawaharlal nehru stadium\"\n",
    "    ],\n",
    "    \"rising pune supergiants\": [\n",
    "        \"maharashtra cricket association stadium\"\n",
    "    ],\n",
    "    \"pune warriors\": [\n",
    "        \"subrata roy sahara stadium\"\n",
    "    ],\n",
    "    \"deccan chargers\": [\n",
    "        \"rajiv gandhi international stadium, uppal\"\n",
    "    ],\n",
    "    \"gujarat lions\": [\n",
    "        \"saurashtra cricket association stadium\"\n",
    "    ],\n",
    "    \"rising pune supergiant\": [\n",
    "        \"maharashtra cricket association stadium\"\n",
    "    ],\n",
    "    \"royal challengers bengaluru\": [\n",
    "        \"m chinnaswamy stadium\",\n",
    "        \"m chinnaswamy stadium, bengaluru\"\n",
    "    ],\n",
    "    \"himachal pradesh cricket association stadium\": [\n",
    "        \"himachal pradesh cricket association stadium, dharamsala\"\n",
    "    ],\n",
    "    \"other stadiums (neutral venues)\": [\n",
    "        \"shaheed veer narayan singh international stadium\",\n",
    "        \"vidarbha cricket association stadium, jamtha\",\n",
    "        \"barsapara cricket stadium, guwahati\",\n",
    "        \"subrata roy sahara stadium\",\n",
    "        \"jsca international stadium complex\",\n",
    "        \"green park\",\n",
    "        \"nehru stadium\",\n",
    "        \"dr dy patil sports academy\",\n",
    "        \"dr. y.s. rajasekhara reddy aca-vdca cricket stadium\",\n",
    "        \"super sport park\",\n",
    "        \"new wanderers stadium\",\n",
    "        \"newlands\",\n",
    "        \"buffalo park\",\n",
    "        \"st george's park\",\n",
    "        \"outsurance oval\",\n",
    "        \"kingsmead\",\n",
    "        \"zayed cricket stadium, abu dhabi\",\n",
    "        \"dubai international cricket stadium\",\n",
    "        \"sheikh zayed stadium\",\n",
    "        \"de beers diamond oval\"\n",
    "    ]\n",
    "}"
   ]
  },
  {
   "cell_type": "code",
   "execution_count": 148,
   "id": "f1b1715a-7566-4636-b8cf-64b0988a5ac2",
   "metadata": {},
   "outputs": [],
   "source": [
    "# Convert home_venues dictionary keys to lowercase for consistency\n",
    "home_venues = {team.lower(): [venue.lower() for venue in venues] for team, venues in home_venues.items()}"
   ]
  },
  {
   "cell_type": "code",
   "execution_count": 149,
   "id": "70527e6f-947b-4540-9472-9e4351071381",
   "metadata": {},
   "outputs": [],
   "source": [
    "# Function to check if a match is a home match\n",
    "def is_home_match(team, venue):\n",
    "    team = team.lower()\n",
    "    venue = venue.lower()\n",
    "    \n",
    "    # Check if the venue belongs to the team's home venues\n",
    "    for home_team, home_stadiums in home_venues.items():\n",
    "        if team == home_team and venue in home_stadiums:\n",
    "            return 1  # Home match\n",
    "    return 0  # Away/neutral match"
   ]
  },
  {
   "cell_type": "code",
   "execution_count": 150,
   "id": "bd394bc2-de3a-457e-925c-9af2bdee2120",
   "metadata": {},
   "outputs": [],
   "source": [
    "df_players[\"home_match\"] = df_players.apply(lambda row: is_home_match(row[\"team\"], row[\"venue\"]), axis=1)"
   ]
  },
  {
   "cell_type": "code",
   "execution_count": 151,
   "id": "c798a31f-9538-4816-abaa-c854a6f53bf8",
   "metadata": {},
   "outputs": [],
   "source": [
    "# Opponent Bowling Strength (total runs conceeded by apponent/total overs bowled by apponent) \n",
    "# If a batsman scores well against teams with a low economy rate, it indicates their ability to play against strong bowling attacks."
   ]
  },
  {
   "cell_type": "code",
   "execution_count": 152,
   "id": "f0c4c7c2-faff-4189-8e63-4ccf890c2847",
   "metadata": {},
   "outputs": [],
   "source": [
    "df_players[\"opponent_avg_economy\"] = df_players.groupby(\"opponent\")[\"total_runs\"].cumsum() / df_players.groupby(\"opponent\")[\"total_balls\"].cumsum() * 6"
   ]
  },
  {
   "cell_type": "code",
   "execution_count": 153,
   "id": "9194a6da-eabd-4526-a9fc-4e7b6c1417b8",
   "metadata": {},
   "outputs": [
    {
     "data": {
      "image/png": "[encoded data removed]",
      "text/plain": [
       "<Figure size 640x480 with 1 Axes>"
      ]
     },
     "metadata": {},
     "output_type": "display_data"
    }
   ],
   "source": [
    "sns.histplot(df_players[\"batting_avg\"], bins=30, kde=True)  \n",
    "plt.title(\"Distribution of Batting Averages\")\n",
    "plt.savefig(\"Distribution of Batting Averages.jpg\")\n",
    "plt.show()"
   ]
  },
  {
   "cell_type": "code",
   "execution_count": 154,
   "id": "2c57aabc-63b7-4219-9305-141f988ff298",
   "metadata": {},
   "outputs": [
    {
     "data": {
      "text/html": [
       "<a href='Distribution of Batting Averages.jpg' target='_blank'>Distribution of Batting Averages.jpg</a><br>"
      ],
      "text/plain": [
       "/Users/s.v.ssaisreenivas/projects/Deep Learning/Distribution of Batting Averages.jpg"
      ]
     },
     "execution_count": 154,
     "metadata": {},
     "output_type": "execute_result"
    }
   ],
   "source": [
    "\n",
    "FileLink(\"Distribution of Batting Averages.jpg\")"
   ]
  },
  {
   "cell_type": "code",
   "execution_count": 155,
   "id": "c2b97693-93e1-4286-9a11-0fbedb59ff35",
   "metadata": {},
   "outputs": [
    {
     "data": {
      "text/html": [
       "<div>\n",
       "<style scoped>\n",
       "    .dataframe tbody tr th:only-of-type {\n",
       "        vertical-align: middle;\n",
       "    }\n",
       "\n",
       "    .dataframe tbody tr th {\n",
       "        vertical-align: top;\n",
       "    }\n",
       "\n",
       "    .dataframe thead th {\n",
       "        text-align: right;\n",
       "    }\n",
       "</style>\n",
       "<table border=\"1\" class=\"dataframe\">\n",
       "  <thead>\n",
       "    <tr style=\"text-align: right;\">\n",
       "      <th></th>\n",
       "      <th>match_id</th>\n",
       "      <th>player</th>\n",
       "      <th>team</th>\n",
       "      <th>opponent</th>\n",
       "      <th>venue</th>\n",
       "      <th>toss_winner</th>\n",
       "      <th>toss_decision</th>\n",
       "      <th>match_winner</th>\n",
       "      <th>runs_scored</th>\n",
       "      <th>balls_faced</th>\n",
       "      <th>...</th>\n",
       "      <th>total_runs</th>\n",
       "      <th>total_balls</th>\n",
       "      <th>total_innings</th>\n",
       "      <th>batting_avg</th>\n",
       "      <th>strike_rate</th>\n",
       "      <th>rolling_avg_5</th>\n",
       "      <th>avg_runs_venue</th>\n",
       "      <th>avg_runs_opponent</th>\n",
       "      <th>home_match</th>\n",
       "      <th>opponent_avg_economy</th>\n",
       "    </tr>\n",
       "  </thead>\n",
       "  <tbody>\n",
       "    <tr>\n",
       "      <th>0</th>\n",
       "      <td>1</td>\n",
       "      <td>TM Head</td>\n",
       "      <td>Sunrisers Hyderabad</td>\n",
       "      <td>Punjab Kings</td>\n",
       "      <td>Maharaja Yadavindra Singh International Cricke...</td>\n",
       "      <td>Punjab Kings</td>\n",
       "      <td>field</td>\n",
       "      <td>Sunrisers Hyderabad</td>\n",
       "      <td>21</td>\n",
       "      <td>15</td>\n",
       "      <td>...</td>\n",
       "      <td>21</td>\n",
       "      <td>15</td>\n",
       "      <td>1</td>\n",
       "      <td>21.0</td>\n",
       "      <td>140.000000</td>\n",
       "      <td>21.0</td>\n",
       "      <td>21.0</td>\n",
       "      <td>10.500000</td>\n",
       "      <td>0</td>\n",
       "      <td>8.400000</td>\n",
       "    </tr>\n",
       "    <tr>\n",
       "      <th>1</th>\n",
       "      <td>1</td>\n",
       "      <td>Abhishek Sharma</td>\n",
       "      <td>Sunrisers Hyderabad</td>\n",
       "      <td>Punjab Kings</td>\n",
       "      <td>Maharaja Yadavindra Singh International Cricke...</td>\n",
       "      <td>Punjab Kings</td>\n",
       "      <td>field</td>\n",
       "      <td>Sunrisers Hyderabad</td>\n",
       "      <td>16</td>\n",
       "      <td>12</td>\n",
       "      <td>...</td>\n",
       "      <td>16</td>\n",
       "      <td>12</td>\n",
       "      <td>1</td>\n",
       "      <td>16.0</td>\n",
       "      <td>133.333333</td>\n",
       "      <td>16.0</td>\n",
       "      <td>16.0</td>\n",
       "      <td>39.000000</td>\n",
       "      <td>0</td>\n",
       "      <td>8.222222</td>\n",
       "    </tr>\n",
       "    <tr>\n",
       "      <th>2</th>\n",
       "      <td>1</td>\n",
       "      <td>AK Markram</td>\n",
       "      <td>Sunrisers Hyderabad</td>\n",
       "      <td>Punjab Kings</td>\n",
       "      <td>Maharaja Yadavindra Singh International Cricke...</td>\n",
       "      <td>Punjab Kings</td>\n",
       "      <td>field</td>\n",
       "      <td>Sunrisers Hyderabad</td>\n",
       "      <td>0</td>\n",
       "      <td>2</td>\n",
       "      <td>...</td>\n",
       "      <td>0</td>\n",
       "      <td>2</td>\n",
       "      <td>1</td>\n",
       "      <td>0.0</td>\n",
       "      <td>0.000000</td>\n",
       "      <td>0.0</td>\n",
       "      <td>0.0</td>\n",
       "      <td>24.750000</td>\n",
       "      <td>0</td>\n",
       "      <td>7.655172</td>\n",
       "    </tr>\n",
       "    <tr>\n",
       "      <th>3</th>\n",
       "      <td>1</td>\n",
       "      <td>Nithish Kumar Reddy</td>\n",
       "      <td>Sunrisers Hyderabad</td>\n",
       "      <td>Punjab Kings</td>\n",
       "      <td>Maharaja Yadavindra Singh International Cricke...</td>\n",
       "      <td>Punjab Kings</td>\n",
       "      <td>field</td>\n",
       "      <td>Sunrisers Hyderabad</td>\n",
       "      <td>64</td>\n",
       "      <td>38</td>\n",
       "      <td>...</td>\n",
       "      <td>64</td>\n",
       "      <td>38</td>\n",
       "      <td>1</td>\n",
       "      <td>64.0</td>\n",
       "      <td>168.421053</td>\n",
       "      <td>64.0</td>\n",
       "      <td>64.0</td>\n",
       "      <td>50.500000</td>\n",
       "      <td>0</td>\n",
       "      <td>9.044776</td>\n",
       "    </tr>\n",
       "    <tr>\n",
       "      <th>4</th>\n",
       "      <td>1</td>\n",
       "      <td>RA Tripathi</td>\n",
       "      <td>Sunrisers Hyderabad</td>\n",
       "      <td>Punjab Kings</td>\n",
       "      <td>Maharaja Yadavindra Singh International Cricke...</td>\n",
       "      <td>Punjab Kings</td>\n",
       "      <td>field</td>\n",
       "      <td>Sunrisers Hyderabad</td>\n",
       "      <td>11</td>\n",
       "      <td>14</td>\n",
       "      <td>...</td>\n",
       "      <td>11</td>\n",
       "      <td>14</td>\n",
       "      <td>1</td>\n",
       "      <td>11.0</td>\n",
       "      <td>78.571429</td>\n",
       "      <td>11.0</td>\n",
       "      <td>11.0</td>\n",
       "      <td>35.285714</td>\n",
       "      <td>0</td>\n",
       "      <td>8.296296</td>\n",
       "    </tr>\n",
       "  </tbody>\n",
       "</table>\n",
       "<p>5 rows × 22 columns</p>\n",
       "</div>"
      ],
      "text/plain": [
       "   match_id               player                 team      opponent  \\\n",
       "0         1              TM Head  Sunrisers Hyderabad  Punjab Kings   \n",
       "1         1      Abhishek Sharma  Sunrisers Hyderabad  Punjab Kings   \n",
       "2         1           AK Markram  Sunrisers Hyderabad  Punjab Kings   \n",
       "3         1  Nithish Kumar Reddy  Sunrisers Hyderabad  Punjab Kings   \n",
       "4         1          RA Tripathi  Sunrisers Hyderabad  Punjab Kings   \n",
       "\n",
       "                                               venue   toss_winner  \\\n",
       "0  Maharaja Yadavindra Singh International Cricke...  Punjab Kings   \n",
       "1  Maharaja Yadavindra Singh International Cricke...  Punjab Kings   \n",
       "2  Maharaja Yadavindra Singh International Cricke...  Punjab Kings   \n",
       "3  Maharaja Yadavindra Singh International Cricke...  Punjab Kings   \n",
       "4  Maharaja Yadavindra Singh International Cricke...  Punjab Kings   \n",
       "\n",
       "  toss_decision         match_winner  runs_scored  balls_faced  ...  \\\n",
       "0         field  Sunrisers Hyderabad           21           15  ...   \n",
       "1         field  Sunrisers Hyderabad           16           12  ...   \n",
       "2         field  Sunrisers Hyderabad            0            2  ...   \n",
       "3         field  Sunrisers Hyderabad           64           38  ...   \n",
       "4         field  Sunrisers Hyderabad           11           14  ...   \n",
       "\n",
       "   total_runs  total_balls  total_innings  batting_avg  strike_rate  \\\n",
       "0          21           15              1         21.0   140.000000   \n",
       "1          16           12              1         16.0   133.333333   \n",
       "2           0            2              1          0.0     0.000000   \n",
       "3          64           38              1         64.0   168.421053   \n",
       "4          11           14              1         11.0    78.571429   \n",
       "\n",
       "   rolling_avg_5  avg_runs_venue  avg_runs_opponent  home_match  \\\n",
       "0           21.0            21.0          10.500000           0   \n",
       "1           16.0            16.0          39.000000           0   \n",
       "2            0.0             0.0          24.750000           0   \n",
       "3           64.0            64.0          50.500000           0   \n",
       "4           11.0            11.0          35.285714           0   \n",
       "\n",
       "   opponent_avg_economy  \n",
       "0              8.400000  \n",
       "1              8.222222  \n",
       "2              7.655172  \n",
       "3              9.044776  \n",
       "4              8.296296  \n",
       "\n",
       "[5 rows x 22 columns]"
      ]
     },
     "execution_count": 155,
     "metadata": {},
     "output_type": "execute_result"
    }
   ],
   "source": [
    "df_players.head()"
   ]
  },
  {
   "cell_type": "code",
   "execution_count": 156,
   "id": "82df45c3-ffe8-475f-b1af-fdb228654c23",
   "metadata": {},
   "outputs": [
    {
     "name": "stdout",
     "output_type": "stream",
     "text": [
      "Player stats extracted and saved!\n"
     ]
    }
   ],
   "source": [
    "# Save to CSV for easy access\n",
    "df_players.to_csv(\"ipl_player_stats.csv\", index=False)\n",
    "print(\"Player stats extracted and saved!\")"
   ]
  },
  {
   "cell_type": "markdown",
   "id": "abb75194-900a-4ee4-8d5e-2d92ac6434ff",
   "metadata": {},
   "source": [
    "##### import numpy as np\n",
    "import matplotlib.pyplot as plt\n",
    "import seaborn as sns\n",
    "from sklearn.inspection import PartialDependenceDisplay\n",
    "\n",
    "# Visualizing Feature-Target Relationships\n",
    "features_to_plot = [\n",
    "    'batting_avg', 'strike_rate', 'rolling_avg_5', \n",
    "    'avg_runs_venue', 'avg_runs_opponent', 'opponent_avg_economy', 'home_match'\n",
    "]\n",
    "\n",
    "plt.figure(figsize=(15, 12))\n",
    "for i, feature in enumerate(features_to_plot, 1):\n",
    "    plt.subplot(3, 3, i)\n",
    "    sns.scatterplot(x=df_players[feature], y=df_players['runs_scored'], alpha=0.5)\n",
    "    plt.title(f'{feature} vs. runs_scored')\n",
    "    plt.xlabel(feature)\n",
    "    plt.ylabel('runs_scored')\n",
    "plt.tight_layout()\n",
    "plt.savefig(\"features.jpg\")\n",
    "plt.show()\n",
    "\n",
    "# Only include features actually present in X_train\n",
    "pdp_features = [\n",
    "    'batting_avg', 'strike_rate', 'avg_runs_venue', \n",
    "    'avg_runs_opponent', 'opponent_avg_economy', 'home_match'\n",
    "]\n",
    "\n",
    "# Partial Dependence Plots for Tree-Based Models (Random Forest, XGBoost)\n",
    "fig, ax = plt.subplots(figsize=(15, 10))\n",
    "PartialDependenceDisplay.from_estimator(best_rf, X_train, pdp_features, ax=ax)\n",
    "plt.suptitle('Partial Dependence Plots for Random Forest')\n",
    "plt.show()\n",
    "\n",
    "fig, ax = plt.subplots(figsize=(15, 10))\n",
    "PartialDependenceDisplay.from_estimator(best_xgb, X_train, pdp_features, ax=ax)\n",
    "plt.suptitle('Partial Dependence Plots for XGBoost')\n",
    "plt.savefig(\"partial_dependencies.jpg\")\n",
    "plt.show()\n"
   ]
  },
  {
   "cell_type": "code",
   "execution_count": 158,
   "id": "04a4a0b9-de48-47c7-89a7-96a635169f17",
   "metadata": {},
   "outputs": [
    {
     "data": {
      "text/html": [
       "<a href='features.jpg' target='_blank'>features.jpg</a><br>"
      ],
      "text/plain": [
       "/Users/s.v.ssaisreenivas/projects/Deep Learning/features.jpg"
      ]
     },
     "execution_count": 158,
     "metadata": {},
     "output_type": "execute_result"
    }
   ],
   "source": [
    "FileLink(\"features.jpg\")"
   ]
  },
  {
   "cell_type": "code",
   "execution_count": 159,
   "id": "9786e0d8-e672-4d51-9083-f3ff3ebcfdc6",
   "metadata": {},
   "outputs": [
    {
     "data": {
      "text/html": [
       "<a href='partial_dependencies.jpg' target='_blank'>partial_dependencies.jpg</a><br>"
      ],
      "text/plain": [
       "/Users/s.v.ssaisreenivas/projects/Deep Learning/partial_dependencies.jpg"
      ]
     },
     "execution_count": 159,
     "metadata": {},
     "output_type": "execute_result"
    }
   ],
   "source": [
    "FileLink(\"partial_dependencies.jpg\")"
   ]
  },
  {
   "cell_type": "code",
   "execution_count": 160,
   "id": "57479f3f-1ff9-407a-8105-49c32b5210fd",
   "metadata": {},
   "outputs": [],
   "source": [
    "selected_features = [\n",
    "    'runs_scored', 'balls_faced', 'batting_avg', 'strike_rate',\n",
    "    'rolling_avg_5', 'avg_runs_venue', 'avg_runs_opponent', 'opponent_avg_economy', 'home_match'\n",
    "]"
   ]
  },
  {
   "cell_type": "code",
   "execution_count": 161,
   "id": "2d97f2e4-7767-48b6-9577-550fedf6d6b6",
   "metadata": {},
   "outputs": [],
   "source": [
    "corr_matrix = df_players[selected_features].corr() # used to remove one of the feature if two features are having high corelation."
   ]
  },
  {
   "cell_type": "code",
   "execution_count": 162,
   "id": "dc7cf0c8-33cb-4a6f-8b12-39a571f7fae5",
   "metadata": {},
   "outputs": [
    {
     "data": {
      "image/png": "[encoded data removed]",
      "text/plain": [
       "<Figure size 1000x600 with 2 Axes>"
      ]
     },
     "metadata": {},
     "output_type": "display_data"
    }
   ],
   "source": [
    "# Plot heatmap\n",
    "plt.figure(figsize=(10, 6))\n",
    "sns.heatmap(corr_matrix, annot=True, cmap='coolwarm', fmt=\".2f\", linewidths=0.5)\n",
    "\n",
    "# Title\n",
    "plt.title(\"Feature Correlation Heatmap\")\n",
    "\n",
    "plt.show()"
   ]
  },
  {
   "cell_type": "code",
   "execution_count": 163,
   "id": "b8b9991a-cf00-4343-bfca-84bad0b991cc",
   "metadata": {},
   "outputs": [
    {
     "data": {
      "text/html": [
       "<a href='Feature Correlation Heatmap.jpg' target='_blank'>Feature Correlation Heatmap.jpg</a><br>"
      ],
      "text/plain": [
       "/Users/s.v.ssaisreenivas/projects/Deep Learning/Feature Correlation Heatmap.jpg"
      ]
     },
     "execution_count": 163,
     "metadata": {},
     "output_type": "execute_result"
    }
   ],
   "source": [
    "FileLink(\"Feature Correlation Heatmap.jpg\")"
   ]
  },
  {
   "cell_type": "code",
   "execution_count": 164,
   "id": "0bb5fe2c-3273-4ffa-b69f-217d96a6eee4",
   "metadata": {},
   "outputs": [],
   "source": [
    "# Creating a new DataFrame with selected features\n",
    "selected_features = [\n",
    "    'player', 'runs_scored', 'batting_avg', 'strike_rate', \n",
    "    'avg_runs_venue', 'avg_runs_opponent', \n",
    "    'opponent_avg_economy', 'home_match'\n",
    "]"
   ]
  },
  {
   "cell_type": "code",
   "execution_count": 165,
   "id": "ed74053a-775b-4178-9c7f-240de41ed86d",
   "metadata": {},
   "outputs": [],
   "source": [
    "df_selected = df_players[selected_features].copy()\n"
   ]
  },
  {
   "cell_type": "code",
   "execution_count": 166,
   "id": "efc033d8-967f-4c10-aa73-3076b1b289cd",
   "metadata": {},
   "outputs": [
    {
     "data": {
      "text/html": [
       "<div>\n",
       "<style scoped>\n",
       "    .dataframe tbody tr th:only-of-type {\n",
       "        vertical-align: middle;\n",
       "    }\n",
       "\n",
       "    .dataframe tbody tr th {\n",
       "        vertical-align: top;\n",
       "    }\n",
       "\n",
       "    .dataframe thead th {\n",
       "        text-align: right;\n",
       "    }\n",
       "</style>\n",
       "<table border=\"1\" class=\"dataframe\">\n",
       "  <thead>\n",
       "    <tr style=\"text-align: right;\">\n",
       "      <th></th>\n",
       "      <th>player</th>\n",
       "      <th>runs_scored</th>\n",
       "      <th>batting_avg</th>\n",
       "      <th>strike_rate</th>\n",
       "      <th>avg_runs_venue</th>\n",
       "      <th>avg_runs_opponent</th>\n",
       "      <th>opponent_avg_economy</th>\n",
       "      <th>home_match</th>\n",
       "    </tr>\n",
       "  </thead>\n",
       "  <tbody>\n",
       "    <tr>\n",
       "      <th>0</th>\n",
       "      <td>TM Head</td>\n",
       "      <td>21</td>\n",
       "      <td>21.0</td>\n",
       "      <td>140.000000</td>\n",
       "      <td>21.0</td>\n",
       "      <td>10.500000</td>\n",
       "      <td>8.400000</td>\n",
       "      <td>0</td>\n",
       "    </tr>\n",
       "    <tr>\n",
       "      <th>1</th>\n",
       "      <td>Abhishek Sharma</td>\n",
       "      <td>16</td>\n",
       "      <td>16.0</td>\n",
       "      <td>133.333333</td>\n",
       "      <td>16.0</td>\n",
       "      <td>39.000000</td>\n",
       "      <td>8.222222</td>\n",
       "      <td>0</td>\n",
       "    </tr>\n",
       "    <tr>\n",
       "      <th>2</th>\n",
       "      <td>AK Markram</td>\n",
       "      <td>0</td>\n",
       "      <td>0.0</td>\n",
       "      <td>0.000000</td>\n",
       "      <td>0.0</td>\n",
       "      <td>24.750000</td>\n",
       "      <td>7.655172</td>\n",
       "      <td>0</td>\n",
       "    </tr>\n",
       "    <tr>\n",
       "      <th>3</th>\n",
       "      <td>Nithish Kumar Reddy</td>\n",
       "      <td>64</td>\n",
       "      <td>64.0</td>\n",
       "      <td>168.421053</td>\n",
       "      <td>64.0</td>\n",
       "      <td>50.500000</td>\n",
       "      <td>9.044776</td>\n",
       "      <td>0</td>\n",
       "    </tr>\n",
       "    <tr>\n",
       "      <th>4</th>\n",
       "      <td>RA Tripathi</td>\n",
       "      <td>11</td>\n",
       "      <td>11.0</td>\n",
       "      <td>78.571429</td>\n",
       "      <td>11.0</td>\n",
       "      <td>35.285714</td>\n",
       "      <td>8.296296</td>\n",
       "      <td>0</td>\n",
       "    </tr>\n",
       "  </tbody>\n",
       "</table>\n",
       "</div>"
      ],
      "text/plain": [
       "                player  runs_scored  batting_avg  strike_rate  avg_runs_venue  \\\n",
       "0              TM Head           21         21.0   140.000000            21.0   \n",
       "1      Abhishek Sharma           16         16.0   133.333333            16.0   \n",
       "2           AK Markram            0          0.0     0.000000             0.0   \n",
       "3  Nithish Kumar Reddy           64         64.0   168.421053            64.0   \n",
       "4          RA Tripathi           11         11.0    78.571429            11.0   \n",
       "\n",
       "   avg_runs_opponent  opponent_avg_economy  home_match  \n",
       "0          10.500000              8.400000           0  \n",
       "1          39.000000              8.222222           0  \n",
       "2          24.750000              7.655172           0  \n",
       "3          50.500000              9.044776           0  \n",
       "4          35.285714              8.296296           0  "
      ]
     },
     "execution_count": 166,
     "metadata": {},
     "output_type": "execute_result"
    }
   ],
   "source": [
    "df_selected.head()"
   ]
  },
  {
   "cell_type": "markdown",
   "id": "b6391c3a-ab00-4f51-bc5d-6573ab7bc9f4",
   "metadata": {},
   "source": [
    "#TRAINING MODELS"
   ]
  },
  {
   "cell_type": "code",
   "execution_count": 168,
   "id": "0d4abb19-6ffb-4ae3-adce-bbe2c598449c",
   "metadata": {},
   "outputs": [],
   "source": [
    "# Define features and target\n",
    "X = df_selected.drop(columns=['runs_scored'])\n",
    "y = df_selected['runs_scored']"
   ]
  },
  {
   "cell_type": "code",
   "execution_count": 169,
   "id": "83876103-1ae0-4e96-bb1a-a05d5e7cecba",
   "metadata": {},
   "outputs": [],
   "source": [
    "# Perform train-test split\n",
    "X_train, X_test, y_train, y_test = train_test_split(X, y, test_size=0.2, random_state=42)"
   ]
  },
  {
   "cell_type": "code",
   "execution_count": 170,
   "id": "b87ae11e-fab5-4aa6-ab0c-e8b57db370db",
   "metadata": {},
   "outputs": [
    {
     "name": "stdout",
     "output_type": "stream",
     "text": [
      "Train Set: (13000, 7), Test Set: (3250, 7)\n"
     ]
    }
   ],
   "source": [
    "# Print shape of train and test sets\n",
    "print(f\"Train Set: {X_train.shape}, Test Set: {X_test.shape}\")"
   ]
  },
  {
   "cell_type": "code",
   "execution_count": 171,
   "id": "fe3a809a-0433-4ff5-91f9-72d9c7de2a3d",
   "metadata": {},
   "outputs": [],
   "source": [
    "# TARGET ENCODING"
   ]
  },
  {
   "cell_type": "code",
   "execution_count": 172,
   "id": "be57f98f-0187-4e2d-a5bd-d98ce0582a98",
   "metadata": {},
   "outputs": [],
   "source": [
    "# Compute the mean runs scored per player from training data\n",
    "player_encoding = y_train.groupby(X_train['player']).mean()"
   ]
  },
  {
   "cell_type": "code",
   "execution_count": 173,
   "id": "69d52b48-9ec2-4584-9547-b099dcb33c0a",
   "metadata": {},
   "outputs": [],
   "source": [
    "# Map the mean runs to players in training and test data\n",
    "X_train['player_encoded'] = X_train['player'].map(player_encoding)\n",
    "X_test['player_encoded'] = X_test['player'].map(player_encoding)"
   ]
  },
  {
   "cell_type": "code",
   "execution_count": 174,
   "id": "58b08524-4b3c-4f24-87c3-62c3003e02a1",
   "metadata": {},
   "outputs": [],
   "source": [
    "# Fill missing values in test data (new players) with overall mean\n",
    "X_test['player_encoded'] = X_test['player_encoded'].fillna(y_train.mean())"
   ]
  },
  {
   "cell_type": "code",
   "execution_count": 175,
   "id": "2db4725f-55bb-4d70-b09d-6416c4545ab3",
   "metadata": {},
   "outputs": [],
   "source": [
    "# Drop the original 'player' column\n",
    "X_train.drop(columns=['player'], inplace=True)\n",
    "X_test.drop(columns=['player'], inplace=True)"
   ]
  },
  {
   "cell_type": "code",
   "execution_count": 176,
   "id": "716510cd-995a-4198-8f67-b3c88737f2c4",
   "metadata": {},
   "outputs": [],
   "source": [
    "# TRAINING BASE MODELS\n",
    "# Linear Regression\n",
    "# RandomForestRegressor\n",
    "# XGBoostRegressor"
   ]
  },
  {
   "cell_type": "code",
   "execution_count": 177,
   "id": "221a1c24-baaf-4909-af55-b60160afef4c",
   "metadata": {},
   "outputs": [
    {
     "name": "stdout",
     "output_type": "stream",
     "text": [
      "Linear Regression: R² Score = 0.5124, MSE = 224.5829, MAE = 10.3544\n",
      "Random Forest: R² Score = 0.4409, MSE = 257.5097, MAE = 10.4324\n",
      "XGBoost: R² Score = 0.4183, MSE = 267.9431, MAE = 10.7756\n"
     ]
    }
   ],
   "source": [
    "# Initializing models\n",
    "lr = LinearRegression()\n",
    "rf = RandomForestRegressor(n_estimators=100, random_state=42)\n",
    "xgb = XGBRegressor(n_estimators=100, random_state=42)\n",
    "\n",
    "\n",
    "# Training models\n",
    "lr.fit(X_train, y_train)\n",
    "rf.fit(X_train, y_train)\n",
    "xgb.fit(X_train, y_train)\n",
    "\n",
    "# Predictions\n",
    "y_pred_lr = lr.predict(X_test)\n",
    "y_pred_rf = rf.predict(X_test)\n",
    "y_pred_xgb = xgb.predict(X_test)\n",
    "\n",
    "\n",
    "def evaluate_model(y_true, y_pred, model_name):\n",
    "    r2 = r2_score(y_true, y_pred)\n",
    "    mse = mean_squared_error(y_true, y_pred)\n",
    "    mae = mean_absolute_error(y_true, y_pred)\n",
    "    print(f\"{model_name}: R² Score = {r2:.4f}, MSE = {mse:.4f}, MAE = {mae:.4f}\")\n",
    "\n",
    "evaluate_model(y_test, y_pred_lr, \"Linear Regression\")\n",
    "evaluate_model(y_test, y_pred_rf, \"Random Forest\")\n",
    "evaluate_model(y_test, y_pred_xgb, \"XGBoost\")"
   ]
  },
  {
   "cell_type": "code",
   "execution_count": 178,
   "id": "fdafece5-9447-4d5e-9c1d-cea891162937",
   "metadata": {},
   "outputs": [
    {
     "name": "stdout",
     "output_type": "stream",
     "text": [
      "Blended Model (Weighted Blending with Linear Regression Meta-Model): R² = 0.3508, MSE = 299.0345, MAE = 11.4987\n"
     ]
    }
   ],
   "source": [
    "# Linear regression as meta model\n",
    "\n",
    "# Step 1: Generate base model predictions on training set\n",
    "train_pred_lr = lr.predict(X_train)\n",
    "train_pred_rf = rf.predict(X_train)\n",
    "train_pred_xgb = xgb.predict(X_train)\n",
    "\n",
    "# Step 2: Stack predictions as new features for meta-model\n",
    "meta_train_X = np.column_stack((train_pred_lr, train_pred_rf, train_pred_xgb))\n",
    "meta_train_y = y_train  # Target variable remains the same\n",
    "\n",
    "# Step 3: Train the meta-model (Linear Regression)\n",
    "meta_model = LinearRegression()\n",
    "meta_model.fit(meta_train_X, meta_train_y)\n",
    "\n",
    "# Step 4: Generate base model predictions on test set\n",
    "test_pred_lr = lr.predict(X_test)\n",
    "test_pred_rf = rf.predict(X_test)\n",
    "test_pred_xgb = xgb.predict(X_test)\n",
    "\n",
    "# Step 5: Stack test predictions as new features\n",
    "meta_test_X = np.column_stack((test_pred_lr, test_pred_rf, test_pred_xgb))\n",
    "\n",
    "# Step 6: Make final predictions using the meta-model\n",
    "final_predictions = meta_model.predict(meta_test_X)\n",
    "\n",
    "# Step 7: Evaluate the blended model\n",
    "r2 = r2_score(y_test, final_predictions)\n",
    "mse = mean_squared_error(y_test, final_predictions)\n",
    "mae = mean_absolute_error(y_test, final_predictions)\n",
    "\n",
    "print(f'Blended Model (Weighted Blending with Linear Regression Meta-Model): R² = {r2:.4f}, MSE = {mse:.4f}, MAE = {mae:.4f}')\n"
   ]
  },
  {
   "cell_type": "code",
   "execution_count": 179,
   "id": "bd6fd88a-bab8-490f-874b-d80292e705ec",
   "metadata": {},
   "outputs": [
    {
     "name": "stdout",
     "output_type": "stream",
     "text": [
      "Blended Model (XGBoost as Meta-Model): R² = 0.3433, MSE = 302.4894, MAE = 11.3269\n"
     ]
    }
   ],
   "source": [
    "# XGBoost as Meta-Model\n",
    "\n",
    "from sklearn.metrics import r2_score, mean_squared_error, mean_absolute_error\n",
    "\n",
    "# Stack base model predictions as features for the meta-model\n",
    "meta_X_train = np.column_stack([\n",
    "    lr.predict(X_train),\n",
    "    rf.predict(X_train),\n",
    "    xgb.predict(X_train)\n",
    "])\n",
    "\n",
    "meta_X_test = np.column_stack([\n",
    "    lr.predict(X_test),\n",
    "    rf.predict(X_test),\n",
    "    xgb.predict(X_test)\n",
    "])\n",
    "\n",
    "# Meta-model (XGBoost)\n",
    "meta_model = XGBRegressor(n_estimators=100, learning_rate=0.1, random_state=42)\n",
    "meta_model.fit(meta_X_train, y_train)\n",
    "\n",
    "# Predictions\n",
    "meta_y_pred = meta_model.predict(meta_X_test)\n",
    "\n",
    "# Evaluate performance\n",
    "r2 = r2_score(y_test, meta_y_pred)\n",
    "mse = mean_squared_error(y_test, meta_y_pred)\n",
    "mae = mean_absolute_error(y_test, meta_y_pred)\n",
    "\n",
    "print(f\"Blended Model (XGBoost as Meta-Model): R² = {r2:.4f}, MSE = {mse:.4f}, MAE = {mae:.4f}\")\n"
   ]
  },
  {
   "cell_type": "code",
   "execution_count": 180,
   "id": "6102fdc2-4dcc-489e-985c-c875738f986a",
   "metadata": {},
   "outputs": [
    {
     "name": "stdout",
     "output_type": "stream",
     "text": [
      "Blended Model (Random Forest as Meta-Model): R² = 0.3409, MSE = 303.5915, MAE = 11.3612\n"
     ]
    }
   ],
   "source": [
    "# BLENDING ENSEMBLE - RandomForestRegressor(Meta model)\n",
    "\n",
    "from sklearn.ensemble import RandomForestRegressor\n",
    "from sklearn.metrics import r2_score, mean_squared_error, mean_absolute_error\n",
    "import numpy as np\n",
    "\n",
    "# Stack base model predictions as features for the meta-model\n",
    "meta_X_train = np.column_stack([\n",
    "    lr.predict(X_train),\n",
    "    rf.predict(X_train),\n",
    "    xgb.predict(X_train)\n",
    "])\n",
    "\n",
    "meta_X_test = np.column_stack([\n",
    "    lr.predict(X_test),\n",
    "    rf.predict(X_test),\n",
    "    xgb.predict(X_test)\n",
    "])\n",
    "\n",
    "# Meta-model (Random Forest)\n",
    "meta_model = RandomForestRegressor(n_estimators=100, random_state=42)\n",
    "meta_model.fit(meta_X_train, y_train)\n",
    "\n",
    "# Predictions\n",
    "meta_y_pred = meta_model.predict(meta_X_test)\n",
    "\n",
    "# Evaluate performance\n",
    "r2 = r2_score(y_test, meta_y_pred)\n",
    "mse = mean_squared_error(y_test, meta_y_pred)\n",
    "mae = mean_absolute_error(y_test, meta_y_pred)\n",
    "\n",
    "print(f\"Blended Model (Random Forest as Meta-Model): R² = {r2:.4f}, MSE = {mse:.4f}, MAE = {mae:.4f}\")"
   ]
  },
  {
   "cell_type": "code",
   "execution_count": 181,
   "id": "10a5ae04-31d3-4044-8c7c-c48b10e3c5b2",
   "metadata": {},
   "outputs": [],
   "source": [
    "# Hyperparameter tuning for base models ( random forest and xg boost ) using Randomised search cv"
   ]
  },
  {
   "cell_type": "code",
   "execution_count": 182,
   "id": "fadae855-338f-4305-b238-e20929601ca2",
   "metadata": {},
   "outputs": [
    {
     "name": "stdout",
     "output_type": "stream",
     "text": [
      "Tuned Random Forest: R² = 0.5005, MSE = 230.0674, MAE = 9.8686\n",
      "Tuned XGBoost: R² = 0.5114, MSE = 225.0477 MAE = 9.9374\n"
     ]
    }
   ],
   "source": [
    "from sklearn.model_selection import RandomizedSearchCV\n",
    "from sklearn.ensemble import RandomForestRegressor\n",
    "from xgboost import XGBRegressor\n",
    "from scipy.stats import uniform, randint\n",
    "\n",
    "# Define parameter grids\n",
    "rf_params = {\n",
    "    'n_estimators': randint(50, 300),\n",
    "    'max_depth': randint(3, 20),\n",
    "    'min_samples_split': randint(2, 10),\n",
    "    'min_samples_leaf': randint(1, 10)\n",
    "}\n",
    "\n",
    "xgb_params = {\n",
    "    'n_estimators': randint(50, 300),\n",
    "    'learning_rate': uniform(0.01, 0.3),\n",
    "    'max_depth': randint(3, 15),\n",
    "    'subsample': uniform(0.5, 0.5)\n",
    "}\n",
    "\n",
    "# Initialize models\n",
    "rf = RandomForestRegressor(random_state=42)\n",
    "xgb = XGBRegressor(random_state=42)\n",
    "\n",
    "# Perform Randomized Search\n",
    "rf_search = RandomizedSearchCV(rf, rf_params, n_iter=20, scoring='r2', cv=5, n_jobs=-1, random_state=42)\n",
    "xgb_search = RandomizedSearchCV(xgb, xgb_params, n_iter=20, scoring='r2', cv=5, n_jobs=-1, random_state=42)\n",
    "\n",
    "# Fit models\n",
    "rf_search.fit(X_train, y_train)\n",
    "xgb_search.fit(X_train, y_train)\n",
    "\n",
    "# Get best parameters\n",
    "best_rf = rf_search.best_estimator_\n",
    "best_xgb = xgb_search.best_estimator_\n",
    "\n",
    "# Evaluate tuned models\n",
    "def evaluate_model(model, X_test, y_test):\n",
    "    y_pred = model.predict(X_test)\n",
    "    r2 = r2_score(y_test, y_pred)\n",
    "    mse = mean_squared_error(y_test, y_pred)\n",
    "    mae = mean_absolute_error(y_test, y_pred)\n",
    "    return r2, mse, mae\n",
    "\n",
    "rf_r2, rf_mse, rf_mae = evaluate_model(best_rf, X_test, y_test)\n",
    "xgb_r2, xgb_mse, xgb_mae = evaluate_model(best_xgb, X_test, y_test)\n",
    "\n",
    "print(f\"Tuned Random Forest: R² = {rf_r2:.4f}, MSE = {rf_mse:.4f}, MAE = {rf_mae:.4f}\")\n",
    "print(f\"Tuned XGBoost: R² = {xgb_r2:.4f}, MSE = {xgb_mse:.4f} MAE = {xgb_mae:.4f}\")\n"
   ]
  },
  {
   "cell_type": "code",
   "execution_count": 183,
   "id": "8c754a76-e672-4c13-8098-d54be122586f",
   "metadata": {},
   "outputs": [],
   "source": [
    "# On linear regression, tuned random forest and tuned xgboost base models we used weighted Blending model technique to train meta model using linear rigression"
   ]
  },
  {
   "cell_type": "code",
   "execution_count": 184,
   "id": "14d57176-7a98-4893-8e12-c1ed6f929d41",
   "metadata": {},
   "outputs": [
    {
     "name": "stdout",
     "output_type": "stream",
     "text": [
      "Blended Model (Weighted Blending with Linear Regression Meta-Model): R² = 0.4473, MSE = 254.5616\n"
     ]
    }
   ],
   "source": [
    "import numpy as np\n",
    "from sklearn.linear_model import LinearRegression\n",
    "from sklearn.metrics import r2_score, mean_squared_error\n",
    "\n",
    "# Using the tuned models\n",
    "rf_tuned = best_rf  # Tuned Random Forest\n",
    "xgb_tuned = best_xgb  # Tuned XGBoost\n",
    "\n",
    "# Using your existing predictions from trained models\n",
    "train_pred_lr = lr.predict(X_train)\n",
    "train_pred_rf = rf_tuned.predict(X_train)\n",
    "train_pred_xgb = xgb_tuned.predict(X_train)\n",
    "\n",
    "test_pred_lr = y_pred_lr  # Already generated\n",
    "test_pred_rf = rf_tuned.predict(X_test)\n",
    "test_pred_xgb = xgb_tuned.predict(X_test)\n",
    "\n",
    "# Apply weights to the predictions (more weight to XGBoost as it performed better)\n",
    "weights = [0.2, 0.3, 0.5]  # [Linear Regression, Random Forest, XGBoost]\n",
    "\n",
    "# Weighted training set predictions\n",
    "meta_train_X = np.column_stack([\n",
    "    weights[0] * train_pred_lr, \n",
    "    weights[1] * train_pred_rf, \n",
    "    weights[2] * train_pred_xgb\n",
    "])\n",
    "\n",
    "# Weighted test set predictions\n",
    "meta_test_X = np.column_stack([\n",
    "    weights[0] * test_pred_lr, \n",
    "    weights[1] * test_pred_rf, \n",
    "    weights[2] * test_pred_xgb\n",
    "])\n",
    "\n",
    "# Train the meta-model (Linear Regression)\n",
    "meta_model = LinearRegression()\n",
    "meta_model.fit(meta_train_X, y_train)\n",
    "\n",
    "# Make final predictions using the meta-model\n",
    "final_predictions = meta_model.predict(meta_test_X)\n",
    "\n",
    "# Evaluate performance\n",
    "r2 = r2_score(y_test, final_predictions)\n",
    "mse = mean_squared_error(y_test, final_predictions)\n",
    "\n",
    "print(f'Blended Model (Weighted Blending with Linear Regression Meta-Model): R² = {r2:.4f}, MSE = {mse:.4f}')\n"
   ]
  },
  {
   "cell_type": "code",
   "execution_count": 185,
   "id": "1a85973f-b302-4b2f-8f32-b907e2dbba66",
   "metadata": {},
   "outputs": [
    {
     "name": "stdout",
     "output_type": "stream",
     "text": [
      "Best Weights: Linear Regression = 1.0, Random Forest = 0.0, XGBoost = 0.0\n",
      "Best Blended Model R² Score = 0.5124, MAE = 10.3544\n"
     ]
    }
   ],
   "source": [
    "# We are using Grid search to choose the right weights\n",
    "\n",
    "import numpy as np\n",
    "from sklearn.linear_model import LinearRegression\n",
    "from sklearn.metrics import r2_score, mean_squared_error, mean_absolute_error\n",
    "from itertools import product\n",
    "\n",
    "# Using the tuned models\n",
    "rf_tuned = best_rf  # Tuned Random Forest\n",
    "xgb_tuned = best_xgb  # Tuned XGBoost\n",
    "\n",
    "# Using your existing predictions from trained models\n",
    "train_pred_lr = lr.predict(X_train)\n",
    "train_pred_rf = rf_tuned.predict(X_train)\n",
    "train_pred_xgb = xgb_tuned.predict(X_train)\n",
    "\n",
    "test_pred_lr = y_pred_lr  # Already generated\n",
    "test_pred_rf = rf_tuned.predict(X_test)\n",
    "test_pred_xgb = xgb_tuned.predict(X_test)\n",
    "\n",
    "# Define weight search space (summing up to 1)\n",
    "weight_range = np.arange(0.0, 1.1, 0.1)\n",
    "best_score = -np.inf\n",
    "best_weights = None\n",
    "\n",
    "for w_lr, w_rf, w_xgb in product(weight_range, repeat=3):\n",
    "    if np.isclose(w_lr + w_rf + w_xgb, 1.0):\n",
    "        # Generate weighted predictions\n",
    "        meta_train_X = np.column_stack([\n",
    "            w_lr * train_pred_lr,\n",
    "            w_rf * train_pred_rf,\n",
    "            w_xgb * train_pred_xgb\n",
    "        ])\n",
    "\n",
    "        meta_test_X = np.column_stack([\n",
    "            w_lr * test_pred_lr,\n",
    "            w_rf * test_pred_rf,\n",
    "            w_xgb * test_pred_xgb\n",
    "        ])\n",
    "\n",
    "        # Train the meta-model (Linear Regression)\n",
    "        meta_model = LinearRegression()\n",
    "        meta_model.fit(meta_train_X, y_train)\n",
    "\n",
    "        # Make final predictions\n",
    "        final_predictions = meta_model.predict(meta_test_X)\n",
    "\n",
    "        # Evaluate the model\n",
    "        r2 = r2_score(y_test, final_predictions)\n",
    "        mae = mean_absolute_error(y_test, final_predictions)\n",
    "\n",
    "        if r2 > best_score:\n",
    "            best_score = r2\n",
    "            best_weights = (w_lr, w_rf, w_xgb)\n",
    "            best_mae = mae\n",
    "\n",
    "print(f'Best Weights: Linear Regression = {best_weights[0]}, Random Forest = {best_weights[1]}, XGBoost = {best_weights[2]}')\n",
    "print(f'Best Blended Model R² Score = {best_score:.4f}, MAE = {best_mae:.4f}')\n"
   ]
  },
  {
   "cell_type": "code",
   "execution_count": null,
   "id": "78207ede-703d-4efd-9f68-5c92e7d28dde",
   "metadata": {},
   "outputs": [],
   "source": []
  },
  {
   "cell_type": "code",
   "execution_count": null,
   "id": "9d8e93e2-ec02-475a-8897-971aedff4781",
   "metadata": {},
   "outputs": [],
   "source": []
  },
  {
   "cell_type": "code",
   "execution_count": null,
   "id": "b69a844a-508b-45c1-bb8c-7986007d7a05",
   "metadata": {},
   "outputs": [],
   "source": []
  },
  {
   "cell_type": "code",
   "execution_count": null,
   "id": "f3378016-37cf-4fee-8760-f34887ce50f6",
   "metadata": {},
   "outputs": [],
   "source": []
  },
  {
   "cell_type": "code",
   "execution_count": null,
   "id": "63e8973c-b10d-4554-898e-2c6c21e1f0e6",
   "metadata": {},
   "outputs": [],
   "source": []
  },
  {
   "cell_type": "code",
   "execution_count": null,
   "id": "a35864ef-2c86-4471-9128-3886bc9ce1b0",
   "metadata": {},
   "outputs": [],
   "source": []
  },
  {
   "cell_type": "code",
   "execution_count": null,
   "id": "ad0c218e-5850-4222-b489-e85a984b9e3b",
   "metadata": {},
   "outputs": [],
   "source": []
  },
  {
   "cell_type": "code",
   "execution_count": null,
   "id": "831e248b-a7f8-408b-95ce-1ca320044e95",
   "metadata": {},
   "outputs": [],
   "source": []
  },
  {
   "cell_type": "code",
   "execution_count": null,
   "id": "2e373975-b408-44ba-8da9-8f58593f50d7",
   "metadata": {},
   "outputs": [],
   "source": []
  },
  {
   "cell_type": "code",
   "execution_count": null,
   "id": "de9284c9-c73c-421f-b7f5-14af7dcd9aee",
   "metadata": {},
   "outputs": [],
   "source": []
  },
  {
   "cell_type": "code",
   "execution_count": 186,
   "id": "78d77dda-32d4-4bc7-978f-0ca2c417b9ab",
   "metadata": {},
   "outputs": [],
   "source": [
    "# To improve the models further we are tuning the hyperparameters using GridSearchCV on Random Forest and XGBoost "
   ]
  },
  {
   "cell_type": "code",
   "execution_count": 187,
   "id": "ec7cdce2-48df-41e0-8c4e-3d77ba515f7b",
   "metadata": {},
   "outputs": [],
   "source": [
    "# from sklearn.model_selection import GridSearchCV\n",
    "# from sklearn.ensemble import RandomForestRegressor\n",
    "# from xgboost import XGBRegressor\n",
    "\n",
    "# # Random Forest Hyperparameter Grid\n",
    "# rf_param_grid = {\n",
    "#     'n_estimators': [100, 200, 300],\n",
    "#     'max_depth': [10, 20, None],\n",
    "#     'min_samples_split': [2, 5, 10],\n",
    "#     'min_samples_leaf': [1, 2, 4]\n",
    "# }\n",
    "\n",
    "# # XGBoost Hyperparameter Grid\n",
    "# xgb_param_grid = {\n",
    "#     'n_estimators': [100, 200, 300],\n",
    "#     'max_depth': [3, 6, 9],\n",
    "#     'learning_rate': [0.01, 0.1, 0.2],\n",
    "#     'subsample': [0.7, 1.0],\n",
    "#     'colsample_bytree': [0.7, 1.0]\n",
    "# }\n",
    "\n",
    "# # Initialize Models\n",
    "# rf = RandomForestRegressor(random_state=42)\n",
    "# xgb = XGBRegressor(objective='reg:squarederror', random_state=42)\n",
    "\n",
    "# # Grid Search for Random Forest\n",
    "# rf_grid_search = GridSearchCV(estimator=rf, param_grid=rf_param_grid, \n",
    "#                               cv=5, scoring='r2', n_jobs=-1, verbose=2)\n",
    "# rf_grid_search.fit(X_train, y_train)\n",
    "\n",
    "# # Grid Search for XGBoost\n",
    "# xgb_grid_search = GridSearchCV(estimator=xgb, param_grid=xgb_param_grid, \n",
    "#                                cv=5, scoring='r2', n_jobs=-1, verbose=2)\n",
    "# xgb_grid_search.fit(X_train, y_train)\n",
    "\n",
    "# # Best parameters and scores\n",
    "# print(\"Best RF Params:\", rf_grid_search.best_params_)\n",
    "# print(\"Best RF R² Score:\", rf_grid_search.best_score_)\n",
    "\n",
    "# print(\"Best XGB Params:\", xgb_grid_search.best_params_)\n",
    "# print(\"Best XGB R² Score:\", xgb_grid_search.best_score_)"
   ]
  },
  {
   "cell_type": "code",
   "execution_count": 188,
   "id": "1a397a06-134a-4f95-8459-01ee6c1836dd",
   "metadata": {},
   "outputs": [],
   "source": [
    "# usimg these parameters we are training and evaluating the tuned models"
   ]
  },
  {
   "cell_type": "code",
   "execution_count": 189,
   "id": "e8ef4da9-c4e2-46be-bb38-4204868533c1",
   "metadata": {},
   "outputs": [],
   "source": [
    "# # Train Random Forest with best parameters\n",
    "# rf_best = RandomForestRegressor(\n",
    "#     max_depth=10, min_samples_leaf=4, min_samples_split=10, n_estimators=300, random_state=42\n",
    "# )\n",
    "# rf_best.fit(X_train, y_train)\n",
    "\n",
    "# # Train XGBoost with best parameters\n",
    "# xgb_best = XGBRegressor(\n",
    "#     colsample_bytree=1.0, learning_rate=0.1, max_depth=3, n_estimators=100, subsample=1.0, \n",
    "#     objective='reg:squarederror', random_state=42\n",
    "# )\n",
    "# xgb_best.fit(X_train, y_train)\n",
    "\n",
    "# # Predictions\n",
    "# rf_best_preds = rf_best.predict(X_test)\n",
    "# xgb_best_preds = xgb_best.predict(X_test)\n",
    "\n",
    "# # Evaluate Performance\n",
    "# from sklearn.metrics import r2_score, mean_squared_error, mean_absolute_error\n",
    "\n",
    "# def evaluate_model(name, y_true, y_pred):\n",
    "#     r2 = r2_score(y_true, y_pred)\n",
    "#     mse = mean_squared_error(y_true, y_pred)\n",
    "#     mae = mean_absolute_error(y_true, y_pred)\n",
    "#     print(f\"{name}: R² = {r2:.4f}, MSE = {mse:.4f}, MAE = {mae:.4f}\")\n",
    "\n",
    "# evaluate_model(\"Tuned Random Forest\", y_test, rf_best_preds)\n",
    "# evaluate_model(\"Tuned XGBoost\", y_test, xgb_best_preds)"
   ]
  },
  {
   "cell_type": "code",
   "execution_count": 190,
   "id": "52b5f27a-891c-4e8f-b7b9-00bd94621ca1",
   "metadata": {},
   "outputs": [],
   "source": [
    "# We are blending XGBoost and Random Forest as our meta model\n",
    "# XGBoost improved the most and became our best-performing model. hence, we give it more weight.\n",
    "# Example: Final Prediction = 0.6 * XGBoost + 0.4 * Random Forest"
   ]
  },
  {
   "cell_type": "code",
   "execution_count": null,
   "id": "64cc9995-fc0e-4a53-84fc-5b5e9d2f474e",
   "metadata": {},
   "outputs": [],
   "source": []
  }
 ],
 "metadata": {
  "kernelspec": {
   "display_name": "Python 3 (ipykernel)",
   "language": "python",
   "name": "python3"
  },
  "language_info": {
   "codemirror_mode": {
    "name": "ipython",
    "version": 3
   },
   "file_extension": ".py",
   "mimetype": "text/x-python",
   "name": "python",
   "nbconvert_exporter": "python",
   "pygments_lexer": "ipython3",
   "version": "3.12.2"
  }
 },
 "nbformat": 4,
 "nbformat_minor": 5
}
